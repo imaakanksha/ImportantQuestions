{
 "cells": [
  {
   "cell_type": "code",
   "execution_count": null,
   "metadata": {},
   "outputs": [],
   "source": []
  },
  {
   "cell_type": "markdown",
   "metadata": {},
   "source": [
    "Object Oriented Programming in Python\n",
    "1) Basic Class and Object\n",
    "2) Class Method and Self\n",
    "3) Inheritance\n",
    "4) Encapsulation\n",
    "5) Class Variables\n",
    "6) Static Method\n",
    "7) Property Decorators\n",
    "8) Class Inheritance and isinstance() Function\n",
    "9)Multiple Inheritance"
   ]
  },
  {
   "cell_type": "code",
   "execution_count": 3,
   "metadata": {},
   "outputs": [
    {
     "name": "stdout",
     "output_type": "stream",
     "text": [
      "<__main__.Car object at 0x0000024019CEC590>\n"
     ]
    }
   ],
   "source": [
    "#1) Basic Class and Object\n",
    "#Problem: Create a Car class with attributes like brand and model. Then, create an instance of this class.\n",
    "\n",
    "class Car:\n",
    "    brand = None\n",
    "    model = None\n",
    "\n",
    "my_car = Car()\n",
    "print(my_car)"
   ]
  },
  {
   "cell_type": "code",
   "execution_count": 6,
   "metadata": {},
   "outputs": [
    {
     "name": "stdout",
     "output_type": "stream",
     "text": [
      "Toyota\n",
      "Corolla\n",
      "Safari\n"
     ]
    }
   ],
   "source": [
    "class Car:\n",
    "    def __init__(self, brand, model):\n",
    "        self.brand = brand\n",
    "        self.model = model        \n",
    "\n",
    "my_car = Car(\"Toyota\",\"Corolla\")\n",
    "print(my_car.brand)\n",
    "print(my_car.model)\n",
    "\n",
    "my_new_car = Car(\"Tata\",\"Safari\")\n",
    "print(my_new_car.model)\n",
    "\n"
   ]
  },
  {
   "cell_type": "code",
   "execution_count": 9,
   "metadata": {},
   "outputs": [
    {
     "name": "stdout",
     "output_type": "stream",
     "text": [
      "Toyota\n",
      "Corolla\n",
      "Toyota Corolla\n",
      "Safari\n",
      "Tata Safari\n"
     ]
    }
   ],
   "source": [
    "#2) Class Method and Self\n",
    "#Problem : Add a method to the Car Class that displaysthe full name of the car (brand and model).\n",
    "\n",
    "class Car:\n",
    "    def __init__(self, brand, model):\n",
    "        self.brand = brand\n",
    "        self.model = model    \n",
    "\n",
    "    def full_name(self):\n",
    "        return f\"{self.brand} {self.model}\"\n",
    "        \n",
    "\n",
    "my_car = Car(\"Toyota\",\"Corolla\")\n",
    "print(my_car.brand)\n",
    "print(my_car.model)\n",
    "print(my_car.full_name())\n",
    "\n",
    "my_new_car = Car(\"Tata\",\"Safari\")\n",
    "print(my_new_car.model)\n",
    "print(my_new_car.full_name())"
   ]
  },
  {
   "cell_type": "code",
   "execution_count": 2,
   "metadata": {},
   "outputs": [
    {
     "name": "stdout",
     "output_type": "stream",
     "text": [
      "Model S\n",
      "Tesla Model S\n"
     ]
    }
   ],
   "source": [
    "#Inheritance\n",
    "#Problem: Create an ElectricCar class that inherits from the Car Class and has an additional attribute battery size.\n",
    "\n",
    "class Car:\n",
    "    def __init__(self, brand, model):\n",
    "        self.brand = brand\n",
    "        self.model = model    \n",
    "\n",
    "    def full_name(self):\n",
    "        return f\"{self.brand} {self.model}\"\n",
    "        \n",
    "class ElectricCar(Car):\n",
    "    def __init__(self, brand, model, battery_size):\n",
    "        super().__init__(brand, model)\n",
    "        self.battery_size = battery_size\n",
    "\n",
    "my_tesla = ElectricCar(\"Tesla\",\"Model S\", \"85 kWH\")\n",
    "print(my_tesla.model)\n",
    "print(my_tesla.full_name())"
   ]
  },
  {
   "cell_type": "code",
   "execution_count": 1,
   "metadata": {},
   "outputs": [
    {
     "name": "stdout",
     "output_type": "stream",
     "text": [
      "Model S\n",
      "Tesla Model S\n"
     ]
    }
   ],
   "source": [
    "#Encapsulation\n",
    "#Problem : Modify the Car class to encapsulate the brand attribute, making it private, and provide a getter method for it.\n",
    "\n",
    "class Car:\n",
    "    def __init__(self, brand, model):\n",
    "        self.__brand = brand\n",
    "        self.model = model\n",
    "\n",
    "    def get_brand(self):\n",
    "        return self.__brand + \"!\"\n",
    "\n",
    "    def full_name(self):\n",
    "        return f\"{self.__brand} {self.model}\"\n",
    "        \n",
    "class ElectricCar(Car):\n",
    "    def __init__(self, brand, model, battery_size):\n",
    "        super().__init__(brand, model)\n",
    "        self.battery_size = battery_size\n",
    "\n",
    "my_tesla = ElectricCar(\"Tesla\",\"Model S\", \"85 kWH\")\n",
    "print(my_tesla.model)\n",
    "print(my_tesla.full_name())\n",
    "#print(my_car.brand)\n",
    "#print(my_tesla.get_brand())"
   ]
  }
 ],
 "metadata": {
  "kernelspec": {
   "display_name": "Python 3",
   "language": "python",
   "name": "python3"
  },
  "language_info": {
   "codemirror_mode": {
    "name": "ipython",
    "version": 3
   },
   "file_extension": ".py",
   "mimetype": "text/x-python",
   "name": "python",
   "nbconvert_exporter": "python",
   "pygments_lexer": "ipython3",
   "version": "3.13.0"
  }
 },
 "nbformat": 4,
 "nbformat_minor": 2
}
